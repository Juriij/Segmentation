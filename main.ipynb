{
 "cells": [
  {
   "cell_type": "code",
   "execution_count": 13,
   "metadata": {},
   "outputs": [],
   "source": [
    "import numpy as np\n",
    "import open3d as o3d\n",
    "import matplotlib.pyplot as plt"
   ]
  },
  {
   "cell_type": "code",
   "execution_count": 24,
   "metadata": {},
   "outputs": [],
   "source": [
    "pcd = o3d.io.read_point_cloud(\"data/output.pcd\",remove_nan_points=True, remove_infinite_points=True)\n",
    "\n",
    "# print(pcd)\n",
    "# print(np.asarray(pcd.points))\n",
    "# o3d.visualization.draw_geometries([pcd])"
   ]
  },
  {
   "cell_type": "code",
   "execution_count": 25,
   "metadata": {},
   "outputs": [
    {
     "data": {
      "text/plain": [
       "PointCloud with 105763 points."
      ]
     },
     "execution_count": 25,
     "metadata": {},
     "output_type": "execute_result"
    }
   ],
   "source": [
    "pcd.estimate_normals(search_param=o3d.geometry.KDTreeSearchParamHybrid(radius=0.1, max_nn=16), fast_normal_computation=True)\n",
    "pcd.paint_uniform_color([0.6, 0.6, 0.6])\n",
    "# o3d.visualization.draw_geometries([pcd])"
   ]
  },
  {
   "cell_type": "code",
   "execution_count": null,
   "metadata": {},
   "outputs": [],
   "source": [
    "REMOVING OUTLIERS"
   ]
  },
  {
   "cell_type": "code",
   "execution_count": 26,
   "metadata": {},
   "outputs": [],
   "source": [
    "cl, ind = pcd.remove_statistical_outlier(nb_neighbors=20, std_ratio=2.0)\n",
    "\n",
    "# 'cl' is the cleaned point cloud\n",
    "# 'ind' are the indices of inliers\n",
    "pcd = pcd.select_by_index(ind)\n",
    "\n",
    "# Visualize the cleaned point cloud\n",
    "# o3d.visualization.draw_geometries([pcd])"
   ]
  },
  {
   "cell_type": "code",
   "execution_count": 27,
   "metadata": {},
   "outputs": [
    {
     "name": "stdout",
     "output_type": "stream",
     "text": [
      "the best candidate is:  1\n",
      "pass 1 / 20 done.\n",
      "the best candidate is:  3\n",
      "pass 2 / 20 done.\n",
      "the best candidate is:  0\n",
      "pass 3 / 20 done.\n",
      "the best candidate is:  1\n",
      "pass 4 / 20 done.\n",
      "the best candidate is:  3\n",
      "pass 5 / 20 done.\n",
      "the best candidate is:  13\n",
      "pass 6 / 20 done.\n",
      "the best candidate is:  14\n",
      "pass 7 / 20 done.\n",
      "the best candidate is:  0\n",
      "pass 8 / 20 done.\n",
      "the best candidate is:  0\n",
      "pass 9 / 20 done.\n",
      "the best candidate is:  12\n",
      "pass 10 / 20 done.\n",
      "the best candidate is:  7\n",
      "pass 11 / 20 done.\n",
      "the best candidate is:  12\n",
      "pass 12 / 20 done.\n",
      "the best candidate is:  0\n",
      "pass 13 / 20 done.\n",
      "the best candidate is:  8\n",
      "pass 14 / 20 done.\n",
      "the best candidate is:  11\n",
      "pass 15 / 20 done.\n",
      "the best candidate is:  4\n",
      "pass 16 / 20 done.\n",
      "the best candidate is:  12\n",
      "pass 17 / 20 done.\n",
      "the best candidate is:  1\n",
      "pass 18 / 20 done.\n",
      "the best candidate is:  3\n",
      "pass 19 / 20 done.\n",
      "the best candidate is:  3\n",
      "pass 20 / 20 done.\n"
     ]
    }
   ],
   "source": [
    "segment_models={}\n",
    "segments={}\n",
    "max_plane_idx=20\n",
    "rest=pcd\n",
    "d_threshold=0.01\n",
    "for i in range(max_plane_idx):\n",
    "    colors = plt.get_cmap(\"tab20\")(i)\n",
    "    segment_models[i], inliers = rest.segment_plane(distance_threshold=0.2,ransac_n=5,num_iterations=1000)\n",
    "    segments[i]=rest.select_by_index(inliers)\n",
    "    labels = np.array(segments[i].cluster_dbscan(eps=d_threshold*10, min_points=10))\n",
    "    candidates=[len(np.where(labels==j)[0]) for j in np.unique(labels)]\n",
    "    best_candidate=int(np.unique(labels)[np.where(candidates==np.max(candidates))[0]])\n",
    "    print(\"the best candidate is: \", best_candidate)\n",
    "    rest = rest.select_by_index(inliers, invert=True)+segments[i].select_by_index(list(np.where(labels!=best_candidate)[0]))\n",
    "    segments[i]=segments[i].select_by_index(list(np.where(labels==best_candidate)[0]))\n",
    "    segments[i].paint_uniform_color(list(colors[:3]))\n",
    "    print(\"pass\",i+1,\"/\",max_plane_idx,\"done.\")\n",
    "\n",
    "\n",
    "geometries = [segments[i] for i in range(max_plane_idx) if i in segments]\n",
    "o3d.visualization.draw_geometries(geometries)"
   ]
  }
 ],
 "metadata": {
  "kernelspec": {
   "display_name": "Segmentation",
   "language": "python",
   "name": "python3"
  },
  "language_info": {
   "codemirror_mode": {
    "name": "ipython",
    "version": 3
   },
   "file_extension": ".py",
   "mimetype": "text/x-python",
   "name": "python",
   "nbconvert_exporter": "python",
   "pygments_lexer": "ipython3",
   "version": "3.8.19"
  }
 },
 "nbformat": 4,
 "nbformat_minor": 2
}
